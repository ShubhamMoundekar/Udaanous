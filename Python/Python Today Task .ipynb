{
 "cells": [
  {
   "cell_type": "markdown",
   "id": "83a8d4e6",
   "metadata": {},
   "source": []
  },
  {
   "cell_type": "code",
   "execution_count": 5,
   "id": "1590ea25",
   "metadata": {},
   "outputs": [],
   "source": [
    "# Problem 1: Convert a string representing a number into an integer\n",
    "string_number = \"25\"\n",
    "# Expected output: 25 as an integer"
   ]
  },
  {
   "cell_type": "code",
   "execution_count": 6,
   "id": "ff7dc46e",
   "metadata": {},
   "outputs": [
    {
     "data": {
      "text/plain": [
       "str"
      ]
     },
     "execution_count": 6,
     "metadata": {},
     "output_type": "execute_result"
    }
   ],
   "source": [
    "type(string_number)"
   ]
  },
  {
   "cell_type": "code",
   "execution_count": 7,
   "id": "26ca6e1a",
   "metadata": {},
   "outputs": [
    {
     "name": "stdout",
     "output_type": "stream",
     "text": [
      "25 <class 'int'>\n"
     ]
    }
   ],
   "source": [
    "int_number = int(string_number)\n",
    "print(int_number, type(int_number))"
   ]
  },
  {
   "cell_type": "code",
   "execution_count": 8,
   "id": "548d6a03",
   "metadata": {},
   "outputs": [],
   "source": [
    "# Problem 2: Convert a float number into a string\n",
    "float_number = 3.14159\n",
    "# Expected output: \"3.14159\" as a string"
   ]
  },
  {
   "cell_type": "code",
   "execution_count": 9,
   "id": "2728a1a4",
   "metadata": {},
   "outputs": [
    {
     "name": "stdout",
     "output_type": "stream",
     "text": [
      "3.14159 <class 'str'>\n"
     ]
    }
   ],
   "source": [
    "str_pi = str(float_number)\n",
    "print(str_pi, type(str_pi))"
   ]
  },
  {
   "cell_type": "code",
   "execution_count": 10,
   "id": "a1cbe046",
   "metadata": {},
   "outputs": [],
   "source": [
    "# Problem 3: Convert a boolean value into an integer\n",
    "is_active = True\n",
    "# Expected output: 1 (True -> 1, False -> 0)"
   ]
  },
  {
   "cell_type": "code",
   "execution_count": 11,
   "id": "688425d3",
   "metadata": {},
   "outputs": [
    {
     "data": {
      "text/plain": [
       "bool"
      ]
     },
     "execution_count": 11,
     "metadata": {},
     "output_type": "execute_result"
    }
   ],
   "source": [
    "type(is_active)"
   ]
  },
  {
   "cell_type": "code",
   "execution_count": 12,
   "id": "c9e584ba",
   "metadata": {},
   "outputs": [
    {
     "name": "stdout",
     "output_type": "stream",
     "text": [
      "True <class 'str'>\n"
     ]
    }
   ],
   "source": [
    "str_bool = str(is_active)\n",
    "print(str_bool, type(str_bool))"
   ]
  },
  {
   "cell_type": "code",
   "execution_count": 13,
   "id": "2cdf9f3c",
   "metadata": {},
   "outputs": [
    {
     "name": "stdout",
     "output_type": "stream",
     "text": [
      "Total number of eggs bought: 30\n"
     ]
    }
   ],
   "source": [
    "eggs_day1 = 12\n",
    "eggs_day2 = 10\n",
    "eggs_day3 = 8\n",
    "\n",
    "total_eggs_bought = eggs_day1 + eggs_day2 + eggs_day3\n",
    "\n",
    "print(\"Total number of eggs bought:\", total_eggs_bought)"
   ]
  },
  {
   "cell_type": "code",
   "execution_count": 14,
   "id": "6d68a778",
   "metadata": {},
   "outputs": [
    {
     "name": "stdout",
     "output_type": "stream",
     "text": [
      "Ttotal number of eggs used: 15\n"
     ]
    }
   ],
   "source": [
    "used_day1 = 5\n",
    "used_day2 = 6\n",
    "used_day3 = 4\n",
    "\n",
    "total_eggs_used = used_day1 + used_day2 + used_day3\n",
    "\n",
    "print(\"Ttotal number of eggs used:\", total_eggs_used)"
   ]
  },
  {
   "cell_type": "code",
   "execution_count": 15,
   "id": "62226bbc",
   "metadata": {},
   "outputs": [
    {
     "name": "stdout",
     "output_type": "stream",
     "text": [
      "Remaining number of eggs: 15\n"
     ]
    }
   ],
   "source": [
    "remaining_eggs = total_eggs_bought - total_eggs_used\n",
    "\n",
    "print(\"Remaining number of eggs:\", remaining_eggs)"
   ]
  },
  {
   "cell_type": "markdown",
   "id": "3e065894",
   "metadata": {},
   "source": [
    "# Uderstading Expressions"
   ]
  },
  {
   "cell_type": "code",
   "execution_count": 16,
   "id": "ec2909b5",
   "metadata": {},
   "outputs": [
    {
     "name": "stdout",
     "output_type": "stream",
     "text": [
      "8\n",
      "35\n",
      "4.0\n",
      "5\n"
     ]
    }
   ],
   "source": [
    "a = 5\n",
    "b = 3\n",
    "print(a + b) # Adds 5 and 3\n",
    "x = 5\n",
    "k = x * 7\n",
    "print(k) #  Multiplies the value of x by 7\n",
    "c = (a + b)/2\n",
    "print(c) # Calculates the average of a and b \n",
    "print(len(\"Hello\"))"
   ]
  },
  {
   "cell_type": "markdown",
   "id": "8e3e976e",
   "metadata": {},
   "source": [
    "# Uderstading Variables"
   ]
  },
  {
   "cell_type": "code",
   "execution_count": 17,
   "id": "2de915a2",
   "metadata": {},
   "outputs": [
    {
     "name": "stdout",
     "output_type": "stream",
     "text": [
      "8\n"
     ]
    }
   ],
   "source": [
    "# Example 1 : Storing the result of a simple expression\n",
    "result = 5 + 3\n",
    "print(result) # Output : 8"
   ]
  },
  {
   "cell_type": "code",
   "execution_count": 18,
   "id": "21a82f28",
   "metadata": {},
   "outputs": [
    {
     "name": "stdout",
     "output_type": "stream",
     "text": [
      "30\n"
     ]
    }
   ],
   "source": [
    "# Example 2 : Using Variables in expressions\n",
    "a = 10\n",
    "b = 20\n",
    "sum_value = a + b\n",
    "print(sum_value) # output: 30"
   ]
  },
  {
   "cell_type": "markdown",
   "id": "eee374da",
   "metadata": {},
   "source": [
    "# Integer Data Types"
   ]
  },
  {
   "cell_type": "code",
   "execution_count": 20,
   "id": "2d503233",
   "metadata": {},
   "outputs": [
    {
     "name": "stdout",
     "output_type": "stream",
     "text": [
      "25 -10 7800000000\n"
     ]
    }
   ],
   "source": [
    "age = 25 # Positive Integers\n",
    "temperature = -10 #Negative Integers\n",
    "population = 7800000000 #Large Integers\n",
    "print(age,temperature,population)"
   ]
  },
  {
   "cell_type": "markdown",
   "id": "77b38883",
   "metadata": {},
   "source": [
    "# Float Data Types"
   ]
  },
  {
   "cell_type": "code",
   "execution_count": 21,
   "id": "23cb780b",
   "metadata": {},
   "outputs": [
    {
     "name": "stdout",
     "output_type": "stream",
     "text": [
      "3.14159 19.99 150.0\n"
     ]
    }
   ],
   "source": [
    "pi = 3.14159 #Value of pi\n",
    "price = 19.99 # product price\n",
    "scientific_notation = 1.5e2 #Equivalent To 150.0\n",
    "print(pi,price,scientific_notation)"
   ]
  },
  {
   "cell_type": "markdown",
   "id": "145e788d",
   "metadata": {},
   "source": [
    "# String Data Types "
   ]
  },
  {
   "cell_type": "code",
   "execution_count": 22,
   "id": "24a690bd",
   "metadata": {},
   "outputs": [
    {
     "name": "stdout",
     "output_type": "stream",
     "text": [
      "Alice Hello World! This is a multi-line string\n"
     ]
    }
   ],
   "source": [
    "Name = \"Alice\" # Double Quotes\n",
    "Greeting = 'Hello World!' # Single Quotes\n",
    "multiline_text = \"\"\"This is a multi-line string\"\"\" #Triplr quotes\n",
    "print(Name, Greeting, multiline_text)"
   ]
  },
  {
   "cell_type": "markdown",
   "id": "26acf066",
   "metadata": {},
   "source": [
    "# Boolean Data Types"
   ]
  },
  {
   "cell_type": "code",
   "execution_count": 23,
   "id": "7db32338",
   "metadata": {},
   "outputs": [
    {
     "name": "stdout",
     "output_type": "stream",
     "text": [
      "True True False\n"
     ]
    }
   ],
   "source": [
    "is_valid = True # Boolean variable\n",
    "comparison = 10 > 5 # Evaluates to true\n",
    "empty_check = bool(\"\") #Evaluates to false\n",
    "print(is_valid,comparison,empty_check)"
   ]
  },
  {
   "cell_type": "markdown",
   "id": "b1668cd0",
   "metadata": {},
   "source": [
    "# Types Casting "
   ]
  },
  {
   "cell_type": "code",
   "execution_count": 26,
   "id": "bb43930c",
   "metadata": {},
   "outputs": [
    {
     "name": "stdout",
     "output_type": "stream",
     "text": [
      "10.0\n",
      "3\n",
      "123\n",
      "False\n"
     ]
    }
   ],
   "source": [
    "# Integer to float \n",
    "num = 10\n",
    "print(float(num)) # Output: 10.0\n",
    "\n",
    "# Float integer \n",
    "pi = 3.14\n",
    "print(int(pi)) #output: 3\n",
    "\n",
    "# String to Integer \n",
    "text = \"123\"\n",
    "print(int(text)) #output: 123\n",
    "\n",
    "# Any to Boolean\n",
    "is_empty = bool(\"\") \n",
    "print(is_empty) #Output: False"
   ]
  },
  {
   "cell_type": "markdown",
   "id": "091fb106",
   "metadata": {},
   "source": [
    "# String Formats"
   ]
  },
  {
   "cell_type": "code",
   "execution_count": 27,
   "id": "5b89e7f4",
   "metadata": {},
   "outputs": [],
   "source": [
    "# Forward Indexing\n",
    "My_string = \"Python\"\n",
    "# Position : P y t h o n \n",
    "# Index:     0 1 2 3 4 5"
   ]
  },
  {
   "cell_type": "code",
   "execution_count": 28,
   "id": "15069ed0",
   "metadata": {},
   "outputs": [
    {
     "name": "stdout",
     "output_type": "stream",
     "text": [
      "P\n",
      "h\n"
     ]
    }
   ],
   "source": [
    "print(My_string[0]) # Output: \"P\"\n",
    "print(My_string[3]) # Output: \"h\""
   ]
  },
  {
   "cell_type": "code",
   "execution_count": 29,
   "id": "85ca4ec6",
   "metadata": {},
   "outputs": [],
   "source": [
    "# Backword Indexing\n",
    "my_string = \"Python\"\n",
    "# Position : P   y  t  h  o  n \n",
    "# Negative:  -6 -5 -4 -3 -2 -1"
   ]
  },
  {
   "cell_type": "code",
   "execution_count": 30,
   "id": "38ba2b5e",
   "metadata": {},
   "outputs": [
    {
     "name": "stdout",
     "output_type": "stream",
     "text": [
      "n\n",
      "t\n"
     ]
    }
   ],
   "source": [
    "print(my_string[-1]) # Output: \"n\"\n",
    "print(my_string[-4]) # Output: \"t\""
   ]
  },
  {
   "cell_type": "code",
   "execution_count": 31,
   "id": "c1b83c1e",
   "metadata": {},
   "outputs": [
    {
     "name": "stdout",
     "output_type": "stream",
     "text": [
      "Progra\n"
     ]
    }
   ],
   "source": [
    "#Slicing Method for Strings\n",
    "my_string = \"Programing\"\n",
    "sliced = my_string[0:6]\n",
    "print(sliced) # Output: \"Progra\""
   ]
  },
  {
   "cell_type": "code",
   "execution_count": null,
   "id": "da824719",
   "metadata": {},
   "outputs": [],
   "source": []
  }
 ],
 "metadata": {
  "kernelspec": {
   "display_name": "Python 3 (ipykernel)",
   "language": "python",
   "name": "python3"
  },
  "language_info": {
   "codemirror_mode": {
    "name": "ipython",
    "version": 3
   },
   "file_extension": ".py",
   "mimetype": "text/x-python",
   "name": "python",
   "nbconvert_exporter": "python",
   "pygments_lexer": "ipython3",
   "version": "3.11.5"
  }
 },
 "nbformat": 4,
 "nbformat_minor": 5
}
