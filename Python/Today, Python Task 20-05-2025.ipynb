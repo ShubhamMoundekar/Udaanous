{
 "cells": [
  {
   "cell_type": "markdown",
   "id": "487aa579",
   "metadata": {},
   "source": [
    "# Today Python Task 16-05-2025"
   ]
  },
  {
   "cell_type": "raw",
   "id": "bb1d4356",
   "metadata": {},
   "source": [
    "# LabelEncoder with Varible encoder"
   ]
  },
  {
   "cell_type": "code",
   "execution_count": 1,
   "id": "1c4baccf",
   "metadata": {},
   "outputs": [],
   "source": [
    "import pandas as pd\n",
    "import numpy as np\n",
    "import matplotlib.pyplot as plt\n",
    "import seaborn as sns"
   ]
  },
  {
   "cell_type": "code",
   "execution_count": 2,
   "id": "665afb2f",
   "metadata": {},
   "outputs": [
    {
     "data": {
      "text/html": [
       "<div>\n",
       "<style scoped>\n",
       "    .dataframe tbody tr th:only-of-type {\n",
       "        vertical-align: middle;\n",
       "    }\n",
       "\n",
       "    .dataframe tbody tr th {\n",
       "        vertical-align: top;\n",
       "    }\n",
       "\n",
       "    .dataframe thead th {\n",
       "        text-align: right;\n",
       "    }\n",
       "</style>\n",
       "<table border=\"1\" class=\"dataframe\">\n",
       "  <thead>\n",
       "    <tr style=\"text-align: right;\">\n",
       "      <th></th>\n",
       "      <th>EmployeeID</th>\n",
       "      <th>gender</th>\n",
       "      <th>department</th>\n",
       "      <th>Days Present</th>\n",
       "      <th>Accuracy_of_Work</th>\n",
       "      <th>Meeting Project Deadlines</th>\n",
       "      <th>Task Completion Rates</th>\n",
       "      <th>Interpersonal Skills Rating</th>\n",
       "      <th>Decision-Making Skills Rating</th>\n",
       "      <th>Sales Revenue Generated</th>\n",
       "      <th>churned</th>\n",
       "    </tr>\n",
       "  </thead>\n",
       "  <tbody>\n",
       "    <tr>\n",
       "      <th>0</th>\n",
       "      <td>1</td>\n",
       "      <td>Male</td>\n",
       "      <td>Sales</td>\n",
       "      <td>20</td>\n",
       "      <td>High</td>\n",
       "      <td>Yes</td>\n",
       "      <td>85</td>\n",
       "      <td>8</td>\n",
       "      <td>7</td>\n",
       "      <td>51638</td>\n",
       "      <td>No</td>\n",
       "    </tr>\n",
       "    <tr>\n",
       "      <th>1</th>\n",
       "      <td>2</td>\n",
       "      <td>Female</td>\n",
       "      <td>Marketing</td>\n",
       "      <td>22</td>\n",
       "      <td>Medium</td>\n",
       "      <td>Yes</td>\n",
       "      <td>90</td>\n",
       "      <td>7</td>\n",
       "      <td>6</td>\n",
       "      <td>97797</td>\n",
       "      <td>Yes</td>\n",
       "    </tr>\n",
       "    <tr>\n",
       "      <th>2</th>\n",
       "      <td>3</td>\n",
       "      <td>Male</td>\n",
       "      <td>Human Resources</td>\n",
       "      <td>25</td>\n",
       "      <td>High</td>\n",
       "      <td>No</td>\n",
       "      <td>80</td>\n",
       "      <td>9</td>\n",
       "      <td>8</td>\n",
       "      <td>95341</td>\n",
       "      <td>No</td>\n",
       "    </tr>\n",
       "    <tr>\n",
       "      <th>3</th>\n",
       "      <td>4</td>\n",
       "      <td>Male</td>\n",
       "      <td>Engineering</td>\n",
       "      <td>19</td>\n",
       "      <td>Low</td>\n",
       "      <td>Yes</td>\n",
       "      <td>75</td>\n",
       "      <td>6</td>\n",
       "      <td>5</td>\n",
       "      <td>91806</td>\n",
       "      <td>No</td>\n",
       "    </tr>\n",
       "    <tr>\n",
       "      <th>4</th>\n",
       "      <td>5</td>\n",
       "      <td>Female</td>\n",
       "      <td>Finance</td>\n",
       "      <td>23</td>\n",
       "      <td>Medium</td>\n",
       "      <td>Yes</td>\n",
       "      <td>85</td>\n",
       "      <td>7</td>\n",
       "      <td>7</td>\n",
       "      <td>64247</td>\n",
       "      <td>Yes</td>\n",
       "    </tr>\n",
       "  </tbody>\n",
       "</table>\n",
       "</div>"
      ],
      "text/plain": [
       "   EmployeeID  gender       department  Days Present Accuracy_of_Work  \\\n",
       "0           1    Male            Sales            20             High   \n",
       "1           2  Female        Marketing            22           Medium   \n",
       "2           3    Male  Human Resources            25             High   \n",
       "3           4    Male      Engineering            19              Low   \n",
       "4           5  Female          Finance            23           Medium   \n",
       "\n",
       "  Meeting Project Deadlines  Task Completion Rates  \\\n",
       "0                       Yes                     85   \n",
       "1                       Yes                     90   \n",
       "2                        No                     80   \n",
       "3                       Yes                     75   \n",
       "4                       Yes                     85   \n",
       "\n",
       "   Interpersonal Skills Rating  Decision-Making Skills Rating  \\\n",
       "0                            8                              7   \n",
       "1                            7                              6   \n",
       "2                            9                              8   \n",
       "3                            6                              5   \n",
       "4                            7                              7   \n",
       "\n",
       "   Sales Revenue Generated churned  \n",
       "0                    51638      No  \n",
       "1                    97797     Yes  \n",
       "2                    95341      No  \n",
       "3                    91806      No  \n",
       "4                    64247     Yes  "
      ]
     },
     "execution_count": 2,
     "metadata": {},
     "output_type": "execute_result"
    }
   ],
   "source": [
    "Data1 = pd.read_csv(r\"C:\\Users\\ACER\\Desktop\\Udaanous\\Python\\Python PDF\\practice_data.csv\")\n",
    "Data = pd.DataFrame(Data1)\n",
    "Data.head(5)"
   ]
  },
  {
   "cell_type": "code",
   "execution_count": 3,
   "id": "36638a28",
   "metadata": {},
   "outputs": [],
   "source": [
    "from sklearn.preprocessing import LabelEncoder"
   ]
  },
  {
   "cell_type": "code",
   "execution_count": 4,
   "id": "2734bea8",
   "metadata": {},
   "outputs": [],
   "source": [
    "encoder = LabelEncoder()\n",
    "Data1[\"gender_encode\"] = encoder.fit_transform(Data1[\"gender\"])"
   ]
  },
  {
   "cell_type": "code",
   "execution_count": 5,
   "id": "e0c765ae",
   "metadata": {},
   "outputs": [
    {
     "data": {
      "text/plain": [
       "0    1\n",
       "1    0\n",
       "2    1\n",
       "3    1\n",
       "4    0\n",
       "Name: gender_encode, dtype: int32"
      ]
     },
     "execution_count": 5,
     "metadata": {},
     "output_type": "execute_result"
    }
   ],
   "source": [
    "Data1[\"gender_encode\"].head()"
   ]
  },
  {
   "cell_type": "code",
   "execution_count": 6,
   "id": "7e1c5f0f",
   "metadata": {},
   "outputs": [
    {
     "data": {
      "text/plain": [
       "0     No\n",
       "1    Yes\n",
       "2     No\n",
       "3     No\n",
       "4    Yes\n",
       "Name: churned, dtype: object"
      ]
     },
     "execution_count": 6,
     "metadata": {},
     "output_type": "execute_result"
    }
   ],
   "source": [
    "X = Data1.drop([\"Days Present\"],axis=1)\n",
    "Y = Data1[\"churned\"]\n",
    "X.head()\n",
    "Y.head()"
   ]
  },
  {
   "cell_type": "code",
   "execution_count": 7,
   "id": "09303485",
   "metadata": {},
   "outputs": [],
   "source": [
    "from sklearn.preprocessing import StandardScaler"
   ]
  },
  {
   "cell_type": "code",
   "execution_count": 8,
   "id": "3e3ca9c1",
   "metadata": {},
   "outputs": [
    {
     "data": {
      "text/plain": [
       "0    0.854965\n",
       "1    1.407129\n",
       "2    0.302800\n",
       "3   -0.249365\n",
       "4    0.854965\n",
       "Name: Task Completion Rates, dtype: float64"
      ]
     },
     "execution_count": 8,
     "metadata": {},
     "output_type": "execute_result"
    }
   ],
   "source": [
    "Scaler = StandardScaler()\n",
    "Data1[\"Task Completion Rates\"] = Scaler.fit_transform(Data1[[\"Task Completion Rates\"]])\n",
    "Data1[\"Task Completion Rates\"].head()"
   ]
  },
  {
   "cell_type": "code",
   "execution_count": 9,
   "id": "64f010b9",
   "metadata": {},
   "outputs": [
    {
     "data": {
      "text/plain": [
       "0    0.000000\n",
       "1    1.000000\n",
       "2    0.946793\n",
       "3    0.870209\n",
       "4    0.273164\n",
       "Name: Sales Revenue Generated, dtype: float64"
      ]
     },
     "execution_count": 9,
     "metadata": {},
     "output_type": "execute_result"
    }
   ],
   "source": [
    "from sklearn.preprocessing import MinMaxScaler\n",
    "Scaler = MinMaxScaler()\n",
    "Data1[\"Sales Revenue Generated\"] = Scaler.fit_transform(Data1[[\"Sales Revenue Generated\"]])\n",
    "Data1[\"Sales Revenue Generated\"].head()"
   ]
  },
  {
   "cell_type": "code",
   "execution_count": 10,
   "id": "1f312002",
   "metadata": {},
   "outputs": [],
   "source": [
    "from sklearn.decomposition import PCA\n",
    "import matplotlib.pyplot as plt"
   ]
  },
  {
   "cell_type": "code",
   "execution_count": 11,
   "id": "b97dc684",
   "metadata": {},
   "outputs": [
    {
     "data": {
      "image/png": "[encoded data removed]",
      "text/plain": [
       "<Figure size 600x600 with 1 Axes>"
      ]
     },
     "metadata": {},
     "output_type": "display_data"
    },
    {
     "name": "stdout",
     "output_type": "stream",
     "text": [
      "PCA result shape: (31, 3)\n",
      "First few rows of PCA-transformed data:\n",
      "[[-1.21956987 -1.43083181  0.10540596]\n",
      " [ 0.61568408 -0.84801605 -1.15834026]\n",
      " [ 3.88477106 -1.51495016  0.59887697]\n",
      " [-2.41191217  0.74580022 -0.1398204 ]\n",
      " [ 1.6305556  -0.43497032 -0.8353622 ]]\n"
     ]
    }
   ],
   "source": [
    "# pca = PCA()\n",
    "# VL= pca.fit_transform(Data1[[\"Sales Revenue Generated\",\"Decision-Making Skills Rating\"]])\n",
    "# evr = pca.explained_variance_ratio_\n",
    "\n",
    "# plt.figure(figsize=(10,6))\n",
    "# plt.plot(range(1,len(evr)+ 1),evr, marker=\"o\")\n",
    "# plt.title(\"Sales Revenue Generated_PCA\")\n",
    "# plt.xlabel(\"number of Components\")\n",
    "# plt.ylabel(\"Explained Variance Ratio\")\n",
    "# plt.show()\n",
    "\n",
    "\n",
    "\n",
    "\n",
    "\n",
    "pca = PCA()\n",
    "temp_pca = pca.fit_transform(Data1[[\"Task Completion Rates\",'Days Present','Interpersonal Skills Rating']])\n",
    "\n",
    "evr = pca.explained_variance_ratio_\n",
    "plt.figure(figsize=(6,6))\n",
    "plt.plot(range(1, len(evr) + 1), evr, marker='o',color=\"red\")\n",
    "plt.title('Explained Variance Ratio by Number of Components')\n",
    "plt.xlabel('Number of Components')\n",
    "plt.ylabel('Explained Variance Ratio')\n",
    "plt.show()\n",
    "\n",
    "\n",
    "num_components = 3\n",
    "\n",
    "\n",
    "pca = PCA(n_components=num_components)\n",
    "x_pca = pca.fit_transform(Data1[[\"Task Completion Rates\",'Days Present','Interpersonal Skills Rating']])\n",
    "\n",
    "print(f\"PCA result shape: {x_pca.shape}\")\n",
    "print(\"First few rows of PCA-transformed data:\")\n",
    "print(x_pca[:5])\n",
    "\n"
   ]
  },
  {
   "cell_type": "code",
   "execution_count": 12,
   "id": "08c6870c",
   "metadata": {},
   "outputs": [],
   "source": [
    "from sklearn.model_selection import train_test_split\n",
    "import random\n",
    "import numpy as np"
   ]
  },
  {
   "cell_type": "code",
   "execution_count": 13,
   "id": "3e8aac28",
   "metadata": {},
   "outputs": [
    {
     "name": "stdout",
     "output_type": "stream",
     "text": [
      "(80, 1) (20, 1)\n",
      "(80,) (20,)\n"
     ]
    }
   ],
   "source": [
    "scaled = np.random.rand(100, 1)    \n",
    "y = np.random.randint(20, 51, 100)\n",
    "# Split the dataset\n",
    "x_train, x_test, y_train, y_test = train_test_split(scaled, y, test_size=0.2, random_state=42)\n",
    "\n",
    "print(x_train.shape, x_test.shape)\n",
    "print(y_train.shape, y_test.shape)\n",
    "#x_train, x_test, y_train, y_test"
   ]
  },
  {
   "cell_type": "markdown",
   "id": "7ab460f2",
   "metadata": {},
   "source": [
    "# Python Task 19-05-2025"
   ]
  },
  {
   "cell_type": "markdown",
   "id": "6cfca2d3",
   "metadata": {},
   "source": [
    "# Linear Regression & Machine Learning "
   ]
  },
  {
   "cell_type": "code",
   "execution_count": 14,
   "id": "dce965cd",
   "metadata": {},
   "outputs": [],
   "source": [
    "import numpy as np\n",
    "import pandas as pd\n",
    "from sklearn.linear_model import LinearRegression\n",
    "from sklearn.metrics import mean_squared_error \n",
    "from sklearn.tree import DecisionTreeRegressor \n",
    "from sklearn.ensemble import RandomForestRegressor"
   ]
  },
  {
   "cell_type": "code",
   "execution_count": 15,
   "id": "fb700fc1",
   "metadata": {},
   "outputs": [],
   "source": [
    "x_train = Data[[\"Task Completion Rates\"]]\n",
    "y_test = Data[[\"Interpersonal Skills Rating\"]]\n",
    "x_test  = Data[[\"Task Completion Rates\"]]\n",
    "y_train = Data[[\"Interpersonal Skills Rating\"]]"
   ]
  },
  {
   "cell_type": "code",
   "execution_count": 16,
   "id": "3af69d94",
   "metadata": {},
   "outputs": [
    {
     "name": "stdout",
     "output_type": "stream",
     "text": [
      "Mean squared error: 0.8236859341738989\n"
     ]
    }
   ],
   "source": [
    "model = LinearRegression()  # ✅ Note the parentheses!\n",
    "model.fit(x_train, y_train)\n",
    "\n",
    "y_pred = model.predict(x_test)\n",
    "\n",
    "mape = mean_squared_error(y_test, y_pred)\n",
    "print(\"Mean squared error:\", mape)"
   ]
  },
  {
   "cell_type": "code",
   "execution_count": 17,
   "id": "c6caf2d7",
   "metadata": {},
   "outputs": [
    {
     "name": "stdout",
     "output_type": "stream",
     "text": [
      "Mean squared error: 0.753763440860215\n"
     ]
    }
   ],
   "source": [
    "model = DecisionTreeRegressor()\n",
    "model.fit(x_train, y_train)\n",
    "\n",
    "y_pred = model.predict(x_test)\n",
    "\n",
    "mape = mean_squared_error(y_test, y_pred)\n",
    "print(\"Mean squared error:\", mape)"
   ]
  },
  {
   "cell_type": "code",
   "execution_count": 18,
   "id": "f4ff249d",
   "metadata": {},
   "outputs": [
    {
     "name": "stderr",
     "output_type": "stream",
     "text": [
      "C:\\ProgramData\\anaconda3\\Lib\\site-packages\\sklearn\\base.py:1151: DataConversionWarning: A column-vector y was passed when a 1d array was expected. Please change the shape of y to (n_samples,), for example using ravel().\n",
      "  return fit_method(estimator, *args, **kwargs)\n"
     ]
    },
    {
     "name": "stdout",
     "output_type": "stream",
     "text": [
      "Mean squared error: 0.7550959106087753\n"
     ]
    }
   ],
   "source": [
    "model = RandomForestRegressor()\n",
    "model.fit(x_train, y_train)\n",
    "\n",
    "y_pred = model.predict(x_test)\n",
    "\n",
    "mape = mean_squared_error(y_test, y_pred)\n",
    "print(\"Mean squared error:\", mape)"
   ]
  },
  {
   "cell_type": "markdown",
   "id": "39f49bbe",
   "metadata": {},
   "source": [
    "# Python Task 20-05-2025"
   ]
  },
  {
   "cell_type": "code",
   "execution_count": 63,
   "id": "c19b141f",
   "metadata": {},
   "outputs": [],
   "source": [
    "from sklearn.linear_model import LogisticRegression\n",
    "from sklearn.metrics import accuracy_score, confusion_matrix\n",
    "from sklearn.model_selection import train_test_split\n",
    "from sklearn.tree import DecisionTreeClassifier\n",
    "from sklearn.ensemble import RandomForestClassifier\n",
    "import numpy as np\n",
    "import pandas as pd\n",
    "import matplotlib.pyplot as plt\n",
    "import seaborn as sns"
   ]
  },
  {
   "cell_type": "code",
   "execution_count": 64,
   "id": "7dfeff64",
   "metadata": {},
   "outputs": [
    {
     "data": {
      "text/html": [
       "<div>\n",
       "<style scoped>\n",
       "    .dataframe tbody tr th:only-of-type {\n",
       "        vertical-align: middle;\n",
       "    }\n",
       "\n",
       "    .dataframe tbody tr th {\n",
       "        vertical-align: top;\n",
       "    }\n",
       "\n",
       "    .dataframe thead th {\n",
       "        text-align: right;\n",
       "    }\n",
       "</style>\n",
       "<table border=\"1\" class=\"dataframe\">\n",
       "  <thead>\n",
       "    <tr style=\"text-align: right;\">\n",
       "      <th></th>\n",
       "      <th>EmployeeID</th>\n",
       "      <th>gender</th>\n",
       "      <th>department</th>\n",
       "      <th>Days Present</th>\n",
       "      <th>Accuracy_of_Work</th>\n",
       "      <th>Meeting Project Deadlines</th>\n",
       "      <th>Task Completion Rates</th>\n",
       "      <th>Interpersonal Skills Rating</th>\n",
       "      <th>Decision-Making Skills Rating</th>\n",
       "      <th>Sales Revenue Generated</th>\n",
       "      <th>churned</th>\n",
       "    </tr>\n",
       "  </thead>\n",
       "  <tbody>\n",
       "    <tr>\n",
       "      <th>0</th>\n",
       "      <td>1</td>\n",
       "      <td>Male</td>\n",
       "      <td>Sales</td>\n",
       "      <td>20</td>\n",
       "      <td>High</td>\n",
       "      <td>Yes</td>\n",
       "      <td>85</td>\n",
       "      <td>8</td>\n",
       "      <td>7</td>\n",
       "      <td>51638</td>\n",
       "      <td>No</td>\n",
       "    </tr>\n",
       "    <tr>\n",
       "      <th>1</th>\n",
       "      <td>2</td>\n",
       "      <td>Female</td>\n",
       "      <td>Marketing</td>\n",
       "      <td>22</td>\n",
       "      <td>Medium</td>\n",
       "      <td>Yes</td>\n",
       "      <td>90</td>\n",
       "      <td>7</td>\n",
       "      <td>6</td>\n",
       "      <td>97797</td>\n",
       "      <td>Yes</td>\n",
       "    </tr>\n",
       "    <tr>\n",
       "      <th>2</th>\n",
       "      <td>3</td>\n",
       "      <td>Male</td>\n",
       "      <td>Human Resources</td>\n",
       "      <td>25</td>\n",
       "      <td>High</td>\n",
       "      <td>No</td>\n",
       "      <td>80</td>\n",
       "      <td>9</td>\n",
       "      <td>8</td>\n",
       "      <td>95341</td>\n",
       "      <td>No</td>\n",
       "    </tr>\n",
       "    <tr>\n",
       "      <th>3</th>\n",
       "      <td>4</td>\n",
       "      <td>Male</td>\n",
       "      <td>Engineering</td>\n",
       "      <td>19</td>\n",
       "      <td>Low</td>\n",
       "      <td>Yes</td>\n",
       "      <td>75</td>\n",
       "      <td>6</td>\n",
       "      <td>5</td>\n",
       "      <td>91806</td>\n",
       "      <td>No</td>\n",
       "    </tr>\n",
       "    <tr>\n",
       "      <th>4</th>\n",
       "      <td>5</td>\n",
       "      <td>Female</td>\n",
       "      <td>Finance</td>\n",
       "      <td>23</td>\n",
       "      <td>Medium</td>\n",
       "      <td>Yes</td>\n",
       "      <td>85</td>\n",
       "      <td>7</td>\n",
       "      <td>7</td>\n",
       "      <td>64247</td>\n",
       "      <td>Yes</td>\n",
       "    </tr>\n",
       "  </tbody>\n",
       "</table>\n",
       "</div>"
      ],
      "text/plain": [
       "   EmployeeID  gender       department  Days Present Accuracy_of_Work  \\\n",
       "0           1    Male            Sales            20             High   \n",
       "1           2  Female        Marketing            22           Medium   \n",
       "2           3    Male  Human Resources            25             High   \n",
       "3           4    Male      Engineering            19              Low   \n",
       "4           5  Female          Finance            23           Medium   \n",
       "\n",
       "  Meeting Project Deadlines  Task Completion Rates  \\\n",
       "0                       Yes                     85   \n",
       "1                       Yes                     90   \n",
       "2                        No                     80   \n",
       "3                       Yes                     75   \n",
       "4                       Yes                     85   \n",
       "\n",
       "   Interpersonal Skills Rating  Decision-Making Skills Rating  \\\n",
       "0                            8                              7   \n",
       "1                            7                              6   \n",
       "2                            9                              8   \n",
       "3                            6                              5   \n",
       "4                            7                              7   \n",
       "\n",
       "   Sales Revenue Generated churned  \n",
       "0                    51638      No  \n",
       "1                    97797     Yes  \n",
       "2                    95341      No  \n",
       "3                    91806      No  \n",
       "4                    64247     Yes  "
      ]
     },
     "execution_count": 64,
     "metadata": {},
     "output_type": "execute_result"
    }
   ],
   "source": [
    "Data.head()"
   ]
  },
  {
   "cell_type": "markdown",
   "id": "eb29c325",
   "metadata": {},
   "source": [
    "# Logistic Regression"
   ]
  },
  {
   "cell_type": "code",
   "execution_count": 65,
   "id": "bad88994",
   "metadata": {},
   "outputs": [
    {
     "name": "stdout",
     "output_type": "stream",
     "text": [
      "Accuracy: 0.7142857142857143\n"
     ]
    }
   ],
   "source": [
    "A = [\"Decision-Making Skills Rating\"]\n",
    "B = [\"Interpersonal Skills Rating\"]\n",
    "\n",
    "X = Data[A]\n",
    "y = Data[B].values.ravel()  # flatten y\n",
    "\n",
    "# Split the data into train and test sets (e.g., 80% train, 20% test)\n",
    "x_train, x_test, y_train, y_test = train_test_split(X, y, test_size=0.2, random_state=42)\n",
    "\n",
    "# Initialize the model with more iterations to avoid convergence warning\n",
    "model = LogisticRegression(max_iter=1000)\n",
    "\n",
    "# Fit the model\n",
    "model.fit(x_train, y_train)\n",
    "\n",
    "# Predict on test set\n",
    "y_pred = model.predict(x_test)\n",
    "\n",
    "# Calculate accuracy\n",
    "accuracy = accuracy_score(y_test, y_pred)\n",
    "print(\"Accuracy:\", accuracy)\n"
   ]
  },
  {
   "cell_type": "code",
   "execution_count": 66,
   "id": "cf172cab",
   "metadata": {},
   "outputs": [
    {
     "data": {
      "image/png": "[encoded data removed]",
      "text/plain": [
       "<Figure size 800x600 with 2 Axes>"
      ]
     },
     "metadata": {},
     "output_type": "display_data"
    }
   ],
   "source": [
    "conf_matrix = confusion_matrix(y_test, y_pred)\n",
    "\n",
    "plt.figure(figsize = (8,6))\n",
    "sns.heatmap(conf_matrix, annot=True, fmt=\"d\", cmap=\"Blues\")\n",
    "plt.title(\"Confusion Matrix\")\n",
    "plt.xlabel(\"Predicted\")\n",
    "plt.ylabel(\"Actual\")\n",
    "plt.show()"
   ]
  },
  {
   "cell_type": "markdown",
   "id": "5495c4d4",
   "metadata": {},
   "source": [
    "# Decision Tree Classifier"
   ]
  },
  {
   "cell_type": "code",
   "execution_count": 72,
   "id": "6c00ad45",
   "metadata": {},
   "outputs": [
    {
     "name": "stdout",
     "output_type": "stream",
     "text": [
      "Accuracy: 0.14285714285714285\n"
     ]
    },
    {
     "data": {
      "image/png": "[encoded data removed]",
      "text/plain": [
       "<Figure size 800x600 with 2 Axes>"
      ]
     },
     "metadata": {},
     "output_type": "display_data"
    }
   ],
   "source": [
    "A = [\"Decision-Making Skills Rating\"]\n",
    "B = [\"Task Completion Rates\"]\n",
    "\n",
    "X = Data[A]\n",
    "y = Data[B].values.ravel()  # flatten y\n",
    "\n",
    "# Split the data into train and test sets (e.g., 80% train, 20% test)\n",
    "x_train, x_test, y_train, y_test = train_test_split(X, y, test_size=0.2, random_state=42)\n",
    "\n",
    "# Initialize the model with more iterations to avoid convergence warning\n",
    "model = DecisionTreeClassifier()\n",
    "\n",
    "# Fit the model\n",
    "model.fit(x_train, y_train)\n",
    "\n",
    "# Predict on test set\n",
    "y_pred = model.predict(x_test)\n",
    "\n",
    "# Calculate accuracy\n",
    "accuracy = accuracy_score(y_test, y_pred)\n",
    "print(\"Accuracy:\", accuracy)\n",
    "\n",
    "\n",
    "conf_matrix = confusion_matrix(y_test, y_pred)\n",
    "\n",
    "plt.figure(figsize = (8,6))\n",
    "sns.heatmap(conf_matrix, annot=True, fmt=\"d\", cmap=\"Blues\")\n",
    "plt.title(\"Confusion Matrix\")\n",
    "plt.xlabel(\"Predicted\")\n",
    "plt.ylabel(\"Actual\")\n",
    "plt.show()"
   ]
  },
  {
   "cell_type": "markdown",
   "id": "5304bb20",
   "metadata": {},
   "source": [
    "# Random Forest Classifier"
   ]
  },
  {
   "cell_type": "code",
   "execution_count": 71,
   "id": "07425a54",
   "metadata": {},
   "outputs": [
    {
     "name": "stdout",
     "output_type": "stream",
     "text": [
      "Accuracy: 0.0\n"
     ]
    },
    {
     "data": {
      "image/png": "[encoded data removed]",
      "text/plain": [
       "<Figure size 800x600 with 2 Axes>"
      ]
     },
     "metadata": {},
     "output_type": "display_data"
    }
   ],
   "source": [
    "A = [\"Decision-Making Skills Rating\"]\n",
    "B = [\"Task Completion Rates\"]\n",
    "\n",
    "X = Data[A]\n",
    "y = Data[B].values.ravel()  # flatten y\n",
    "\n",
    "# Split the data into train and test sets (e.g., 80% train, 20% test)\n",
    "x_train, x_test, y_train, y_test = train_test_split(X, y, test_size=0.2, random_state=42)\n",
    "\n",
    "# Initialize the model with more iterations to avoid convergence warning\n",
    "model = RandomForestClassifier()\n",
    "\n",
    "# Fit the model\n",
    "model.fit(x_train, y_train)\n",
    "\n",
    "# Predict on test set\n",
    "y_pred = model.predict(x_test)\n",
    "\n",
    "# Calculate accuracy\n",
    "accuracy = accuracy_score(y_test, y_pred)\n",
    "print(\"Accuracy:\", accuracy)\n",
    "\n",
    "\n",
    "conf_matrix = confusion_matrix(y_test, y_pred)\n",
    "\n",
    "plt.figure(figsize = (8,6))\n",
    "sns.heatmap(conf_matrix, annot=True, fmt=\"d\", cmap=\"Blues\")\n",
    "plt.title(\"Confusion Matrix\")\n",
    "plt.xlabel(\"Predicted\")\n",
    "plt.ylabel(\"Actual\")\n",
    "plt.show()"
   ]
  },
  {
   "cell_type": "code",
   "execution_count": null,
   "id": "af5c56d8",
   "metadata": {},
   "outputs": [],
   "source": []
  }
 ],
 "metadata": {
  "kernelspec": {
   "display_name": "Python 3 (ipykernel)",
   "language": "python",
   "name": "python3"
  },
  "language_info": {
   "codemirror_mode": {
    "name": "ipython",
    "version": 3
   },
   "file_extension": ".py",
   "mimetype": "text/x-python",
   "name": "python",
   "nbconvert_exporter": "python",
   "pygments_lexer": "ipython3",
   "version": "3.11.5"
  }
 },
 "nbformat": 4,
 "nbformat_minor": 5
}
