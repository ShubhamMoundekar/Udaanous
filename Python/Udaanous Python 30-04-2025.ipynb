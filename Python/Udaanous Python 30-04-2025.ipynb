{
 "cells": [
  {
   "cell_type": "markdown",
   "id": "19636793",
   "metadata": {},
   "source": []
  },
  {
   "cell_type": "code",
   "execution_count": 5,
   "id": "06677a8b",
   "metadata": {},
   "outputs": [],
   "source": [
    "# Problem 1: Convert a string representing a number into an integer\n",
    "string_number = \"25\"\n",
    "# Expected output: 25 as an integer"
   ]
  },
  {
   "cell_type": "code",
   "execution_count": 6,
   "id": "c08fa6d5",
   "metadata": {},
   "outputs": [
    {
     "data": {
      "text/plain": [
       "str"
      ]
     },
     "execution_count": 6,
     "metadata": {},
     "output_type": "execute_result"
    }
   ],
   "source": [
    "type(string_number)"
   ]
  },
  {
   "cell_type": "code",
   "execution_count": 7,
   "id": "bfad6519",
   "metadata": {},
   "outputs": [
    {
     "name": "stdout",
     "output_type": "stream",
     "text": [
      "25 <class 'int'>\n"
     ]
    }
   ],
   "source": [
    "int_number = int(string_number)\n",
    "print(int_number, type(int_number))"
   ]
  },
  {
   "cell_type": "code",
   "execution_count": 8,
   "id": "b579ce46",
   "metadata": {},
   "outputs": [],
   "source": [
    "# Problem 2: Convert a float number into a string\n",
    "float_number = 3.14159\n",
    "# Expected output: \"3.14159\" as a string"
   ]
  },
  {
   "cell_type": "code",
   "execution_count": 9,
   "id": "490598e2",
   "metadata": {},
   "outputs": [
    {
     "name": "stdout",
     "output_type": "stream",
     "text": [
      "3.14159 <class 'str'>\n"
     ]
    }
   ],
   "source": [
    "str_pi = str(float_number)\n",
    "print(str_pi, type(str_pi))"
   ]
  },
  {
   "cell_type": "code",
   "execution_count": 10,
   "id": "817c9e85",
   "metadata": {},
   "outputs": [],
   "source": [
    "# Problem 3: Convert a boolean value into an integer\n",
    "is_active = True\n",
    "# Expected output: 1 (True -> 1, False -> 0)"
   ]
  },
  {
   "cell_type": "code",
   "execution_count": 11,
   "id": "e6d7f43a",
   "metadata": {},
   "outputs": [
    {
     "data": {
      "text/plain": [
       "bool"
      ]
     },
     "execution_count": 11,
     "metadata": {},
     "output_type": "execute_result"
    }
   ],
   "source": [
    "type(is_active)"
   ]
  },
  {
   "cell_type": "code",
   "execution_count": 12,
   "id": "90abea66",
   "metadata": {},
   "outputs": [
    {
     "name": "stdout",
     "output_type": "stream",
     "text": [
      "True <class 'str'>\n"
     ]
    }
   ],
   "source": [
    "str_bool = str(is_active)\n",
    "print(str_bool, type(str_bool))"
   ]
  },
  {
   "cell_type": "code",
   "execution_count": 13,
   "id": "ff7e3280",
   "metadata": {},
   "outputs": [
    {
     "name": "stdout",
     "output_type": "stream",
     "text": [
      "Total number of eggs bought: 30\n"
     ]
    }
   ],
   "source": [
    "eggs_day1 = 12\n",
    "eggs_day2 = 10\n",
    "eggs_day3 = 8\n",
    "\n",
    "total_eggs_bought = eggs_day1 + eggs_day2 + eggs_day3\n",
    "\n",
    "print(\"Total number of eggs bought:\", total_eggs_bought)"
   ]
  },
  {
   "cell_type": "code",
   "execution_count": 14,
   "id": "fbcefb2c",
   "metadata": {},
   "outputs": [
    {
     "name": "stdout",
     "output_type": "stream",
     "text": [
      "Ttotal number of eggs used: 15\n"
     ]
    }
   ],
   "source": [
    "used_day1 = 5\n",
    "used_day2 = 6\n",
    "used_day3 = 4\n",
    "\n",
    "total_eggs_used = used_day1 + used_day2 + used_day3\n",
    "\n",
    "print(\"Ttotal number of eggs used:\", total_eggs_used)"
   ]
  },
  {
   "cell_type": "code",
   "execution_count": 15,
   "id": "d6ce4619",
   "metadata": {},
   "outputs": [
    {
     "name": "stdout",
     "output_type": "stream",
     "text": [
      "Remaining number of eggs: 15\n"
     ]
    }
   ],
   "source": [
    "remaining_eggs = total_eggs_bought - total_eggs_used\n",
    "\n",
    "print(\"Remaining number of eggs:\", remaining_eggs)"
   ]
  },
  {
   "cell_type": "markdown",
   "id": "357829f6",
   "metadata": {},
   "source": [
    "# Uderstading Expressions"
   ]
  },
  {
   "cell_type": "code",
   "execution_count": 16,
   "id": "c9868232",
   "metadata": {},
   "outputs": [
    {
     "name": "stdout",
     "output_type": "stream",
     "text": [
      "8\n",
      "35\n",
      "4.0\n",
      "5\n"
     ]
    }
   ],
   "source": [
    "a = 5\n",
    "b = 3\n",
    "print(a + b) # Adds 5 and 3\n",
    "x = 5\n",
    "k = x * 7\n",
    "print(k) #  Multiplies the value of x by 7\n",
    "c = (a + b)/2\n",
    "print(c) # Calculates the average of a and b \n",
    "print(len(\"Hello\"))"
   ]
  },
  {
   "cell_type": "markdown",
   "id": "996cd6b5",
   "metadata": {},
   "source": [
    "# Uderstading Variables"
   ]
  },
  {
   "cell_type": "code",
   "execution_count": 17,
   "id": "179b37e5",
   "metadata": {},
   "outputs": [
    {
     "name": "stdout",
     "output_type": "stream",
     "text": [
      "8\n"
     ]
    }
   ],
   "source": [
    "# Example 1 : Storing the result of a simple expression\n",
    "result = 5 + 3\n",
    "print(result) # Output : 8"
   ]
  },
  {
   "cell_type": "code",
   "execution_count": 18,
   "id": "59ac9e09",
   "metadata": {},
   "outputs": [
    {
     "name": "stdout",
     "output_type": "stream",
     "text": [
      "30\n"
     ]
    }
   ],
   "source": [
    "# Example 2 : Using Variables in expressions\n",
    "a = 10\n",
    "b = 20\n",
    "sum_value = a + b\n",
    "print(sum_value) # output: 30"
   ]
  },
  {
   "cell_type": "markdown",
   "id": "6392ea2a",
   "metadata": {},
   "source": [
    "# Integer Data Types"
   ]
  },
  {
   "cell_type": "code",
   "execution_count": 20,
   "id": "a47b312c",
   "metadata": {},
   "outputs": [
    {
     "name": "stdout",
     "output_type": "stream",
     "text": [
      "25 -10 7800000000\n"
     ]
    }
   ],
   "source": [
    "age = 25 # Positive Integers\n",
    "temperature = -10 #Negative Integers\n",
    "population = 7800000000 #Large Integers\n",
    "print(age,temperature,population)"
   ]
  },
  {
   "cell_type": "markdown",
   "id": "eadfa983",
   "metadata": {},
   "source": [
    "# Float Data Types"
   ]
  },
  {
   "cell_type": "code",
   "execution_count": 21,
   "id": "94ba83df",
   "metadata": {},
   "outputs": [
    {
     "name": "stdout",
     "output_type": "stream",
     "text": [
      "3.14159 19.99 150.0\n"
     ]
    }
   ],
   "source": [
    "pi = 3.14159 #Value of pi\n",
    "price = 19.99 # product price\n",
    "scientific_notation = 1.5e2 #Equivalent To 150.0\n",
    "print(pi,price,scientific_notation)"
   ]
  },
  {
   "cell_type": "markdown",
   "id": "8c1f52d5",
   "metadata": {},
   "source": [
    "# String Data Types "
   ]
  },
  {
   "cell_type": "code",
   "execution_count": 22,
   "id": "95932952",
   "metadata": {},
   "outputs": [
    {
     "name": "stdout",
     "output_type": "stream",
     "text": [
      "Alice Hello World! This is a multi-line string\n"
     ]
    }
   ],
   "source": [
    "Name = \"Alice\" # Double Quotes\n",
    "Greeting = 'Hello World!' # Single Quotes\n",
    "multiline_text = \"\"\"This is a multi-line string\"\"\" #Triplr quotes\n",
    "print(Name, Greeting, multiline_text)"
   ]
  },
  {
   "cell_type": "markdown",
   "id": "49d48e4f",
   "metadata": {},
   "source": [
    "# Boolean Data Types"
   ]
  },
  {
   "cell_type": "code",
   "execution_count": 23,
   "id": "e0a8b119",
   "metadata": {},
   "outputs": [
    {
     "name": "stdout",
     "output_type": "stream",
     "text": [
      "True True False\n"
     ]
    }
   ],
   "source": [
    "is_valid = True # Boolean variable\n",
    "comparison = 10 > 5 # Evaluates to true\n",
    "empty_check = bool(\"\") #Evaluates to false\n",
    "print(is_valid,comparison,empty_check)"
   ]
  },
  {
   "cell_type": "markdown",
   "id": "12f6acd9",
   "metadata": {},
   "source": [
    "# Types Casting "
   ]
  },
  {
   "cell_type": "code",
   "execution_count": 26,
   "id": "f0b93957",
   "metadata": {},
   "outputs": [
    {
     "name": "stdout",
     "output_type": "stream",
     "text": [
      "10.0\n",
      "3\n",
      "123\n",
      "False\n"
     ]
    }
   ],
   "source": [
    "# Integer to float \n",
    "num = 10\n",
    "print(float(num)) # Output: 10.0\n",
    "\n",
    "# Float integer \n",
    "pi = 3.14\n",
    "print(int(pi)) #output: 3\n",
    "\n",
    "# String to Integer \n",
    "text = \"123\"\n",
    "print(int(text)) #output: 123\n",
    "\n",
    "# Any to Boolean\n",
    "is_empty = bool(\"\") \n",
    "print(is_empty) #Output: False"
   ]
  },
  {
   "cell_type": "markdown",
   "id": "31e1de95",
   "metadata": {},
   "source": [
    "# String Formats"
   ]
  },
  {
   "cell_type": "code",
   "execution_count": 27,
   "id": "dc2235b0",
   "metadata": {},
   "outputs": [],
   "source": [
    "# Forward Indexing\n",
    "My_string = \"Python\"\n",
    "# Position : P y t h o n \n",
    "# Index:     0 1 2 3 4 5"
   ]
  },
  {
   "cell_type": "code",
   "execution_count": 28,
   "id": "ef7584f7",
   "metadata": {},
   "outputs": [
    {
     "name": "stdout",
     "output_type": "stream",
     "text": [
      "P\n",
      "h\n"
     ]
    }
   ],
   "source": [
    "print(My_string[0]) # Output: \"P\"\n",
    "print(My_string[3]) # Output: \"h\""
   ]
  },
  {
   "cell_type": "code",
   "execution_count": 29,
   "id": "b094c05a",
   "metadata": {},
   "outputs": [],
   "source": [
    "# Backword Indexing\n",
    "my_string = \"Python\"\n",
    "# Position : P   y  t  h  o  n \n",
    "# Negative:  -6 -5 -4 -3 -2 -1"
   ]
  },
  {
   "cell_type": "code",
   "execution_count": 30,
   "id": "2d9f4193",
   "metadata": {},
   "outputs": [
    {
     "name": "stdout",
     "output_type": "stream",
     "text": [
      "n\n",
      "t\n"
     ]
    }
   ],
   "source": [
    "print(my_string[-1]) # Output: \"n\"\n",
    "print(my_string[-4]) # Output: \"t\""
   ]
  },
  {
   "cell_type": "code",
   "execution_count": 31,
   "id": "0ca83f4a",
   "metadata": {},
   "outputs": [
    {
     "name": "stdout",
     "output_type": "stream",
     "text": [
      "Progra\n"
     ]
    }
   ],
   "source": [
    "#Slicing Method for Strings\n",
    "my_string = \"Programing\"\n",
    "sliced = my_string[0:6]\n",
    "print(sliced) # Output: \"Progra\""
   ]
  },
  {
   "cell_type": "code",
   "execution_count": 1,
   "id": "b10de654",
   "metadata": {},
   "outputs": [
    {
     "name": "stdout",
     "output_type": "stream",
     "text": [
      "Pormn\n"
     ]
    }
   ],
   "source": [
    "# Striding Method for strings\n",
    "my_string = \"Programing\"\n",
    "strided = my_string[0:11:2] # Skips every second character\n",
    "print(strided) # output: \"pormn\""
   ]
  },
  {
   "cell_type": "markdown",
   "id": "a7f59ed1",
   "metadata": {},
   "source": [
    "# Len() Function for strings"
   ]
  },
  {
   "cell_type": "code",
   "execution_count": 2,
   "id": "3279aab5",
   "metadata": {},
   "outputs": [
    {
     "name": "stdout",
     "output_type": "stream",
     "text": [
      "6\n"
     ]
    }
   ],
   "source": [
    "my_string = \"Python\"\n",
    "print(len(my_string)) # output: 6"
   ]
  },
  {
   "cell_type": "markdown",
   "id": "1eb5fb07",
   "metadata": {},
   "source": [
    "# Concatenation of Strings"
   ]
  },
  {
   "cell_type": "code",
   "execution_count": 4,
   "id": "a0b21411",
   "metadata": {},
   "outputs": [
    {
     "name": "stdout",
     "output_type": "stream",
     "text": [
      "Hello World\n"
     ]
    }
   ],
   "source": [
    "string1 = \"Hello\"\n",
    "string2 = \"World\"\n",
    "result = string1 + \" \" + string2 # adds a space between strings\n",
    "print(result) # output: \"Hello World\""
   ]
  },
  {
   "cell_type": "code",
   "execution_count": 6,
   "id": "31e21186",
   "metadata": {},
   "outputs": [
    {
     "name": "stdout",
     "output_type": "stream",
     "text": [
      "Hello\n",
      "World\n",
      "python\tprograming\n"
     ]
    }
   ],
   "source": [
    "# Escap Sequence in string\n",
    "print(\"Hello\\nWorld\") # Output: Hello (Newline) World\n",
    "print(\"python\\tprograming\") # output: python (tab) programing "
   ]
  },
  {
   "cell_type": "markdown",
   "id": "d6fd09f7",
   "metadata": {},
   "source": [
    "# Upper() & Lower() for strings"
   ]
  },
  {
   "cell_type": "code",
   "execution_count": 7,
   "id": "fee28bbc",
   "metadata": {},
   "outputs": [
    {
     "name": "stdout",
     "output_type": "stream",
     "text": [
      "PYTHON\n",
      "python\n"
     ]
    }
   ],
   "source": [
    "my_string = \"Python\"\n",
    "print(my_string.upper()) # output: \"PYTHON\"\n",
    "print(my_string.lower()) # output: \"python\""
   ]
  },
  {
   "cell_type": "markdown",
   "id": "4b6a7a73",
   "metadata": {},
   "source": [
    "# Replace() Function for strings"
   ]
  },
  {
   "cell_type": "code",
   "execution_count": 8,
   "id": "7139eb1c",
   "metadata": {},
   "outputs": [
    {
     "name": "stdout",
     "output_type": "stream",
     "text": [
      "I Love Programing\n"
     ]
    }
   ],
   "source": [
    "my_string = \"I Love Python\"\n",
    "replaced = my_string.replace(\"Python\",\"Programing\")\n",
    "print(replaced) # Output: \"I Love Programing\""
   ]
  },
  {
   "cell_type": "code",
   "execution_count": 9,
   "id": "25adf382",
   "metadata": {},
   "outputs": [
    {
     "data": {
      "text/plain": [
       "'H'"
      ]
     },
     "execution_count": 9,
     "metadata": {},
     "output_type": "execute_result"
    }
   ],
   "source": [
    "python = \"PYTHON\"\n",
    "\n",
    "fourth_python = python[3]\n",
    "fourth_python"
   ]
  },
  {
   "cell_type": "code",
   "execution_count": 10,
   "id": "27a0813f",
   "metadata": {},
   "outputs": [
    {
     "data": {
      "text/plain": [
       "'O'"
      ]
     },
     "execution_count": 10,
     "metadata": {},
     "output_type": "execute_result"
    }
   ],
   "source": [
    "secondlast_python = python[-2]\n",
    "secondlast_python"
   ]
  },
  {
   "cell_type": "code",
   "execution_count": 11,
   "id": "0d46bf48",
   "metadata": {},
   "outputs": [
    {
     "data": {
      "text/plain": [
       "'THON'"
      ]
     },
     "execution_count": 11,
     "metadata": {},
     "output_type": "execute_result"
    }
   ],
   "source": [
    "thon = python[2:6]\n",
    "thon"
   ]
  },
  {
   "cell_type": "code",
   "execution_count": 12,
   "id": "5459dd21",
   "metadata": {},
   "outputs": [
    {
     "data": {
      "text/plain": [
       "'PTO'"
      ]
     },
     "execution_count": 12,
     "metadata": {},
     "output_type": "execute_result"
    }
   ],
   "source": [
    "everysecond_char = python[0:5:2]\n",
    "everysecond_char"
   ]
  },
  {
   "cell_type": "code",
   "execution_count": 13,
   "id": "524c52c5",
   "metadata": {},
   "outputs": [
    {
     "data": {
      "text/plain": [
       "13"
      ]
     },
     "execution_count": 13,
     "metadata": {},
     "output_type": "execute_result"
    }
   ],
   "source": [
    "string = \"Hello, World!\"\n",
    "\n",
    "len(string)"
   ]
  },
  {
   "cell_type": "code",
   "execution_count": 14,
   "id": "e9bad927",
   "metadata": {},
   "outputs": [
    {
     "data": {
      "text/plain": [
       "'Hello World'"
      ]
     },
     "execution_count": 14,
     "metadata": {},
     "output_type": "execute_result"
    }
   ],
   "source": [
    "complete = \"Hello\" + \" \" + \"World\"\n",
    "complete"
   ]
  },
  {
   "cell_type": "code",
   "execution_count": 15,
   "id": "5aca9e16",
   "metadata": {},
   "outputs": [
    {
     "name": "stdout",
     "output_type": "stream",
     "text": [
      "Hello\n",
      "\tWorld\n"
     ]
    }
   ],
   "source": [
    "print(\"Hello\\n\\tWorld\")"
   ]
  },
  {
   "cell_type": "code",
   "execution_count": 16,
   "id": "35ac470e",
   "metadata": {},
   "outputs": [
    {
     "name": "stdout",
     "output_type": "stream",
     "text": [
      "PYTHON PROGRAMMING\n",
      "python programming\n"
     ]
    }
   ],
   "source": [
    "regular = \"Python Programming\" \n",
    "\n",
    "print(regular.upper())\n",
    "print(regular.lower())"
   ]
  },
  {
   "cell_type": "code",
   "execution_count": 17,
   "id": "ec1223f2",
   "metadata": {},
   "outputs": [
    {
     "data": {
      "text/plain": [
       "'I love Java.'"
      ]
     },
     "execution_count": 17,
     "metadata": {},
     "output_type": "execute_result"
    }
   ],
   "source": [
    "sentence = \"I love Python.\"\n",
    "\n",
    "new_sentence = sentence.replace(\"Python\", \"Java\")\n",
    "new_sentence"
   ]
  },
  {
   "cell_type": "markdown",
   "id": "6b9bdfff",
   "metadata": {},
   "source": [
    "# Tupple"
   ]
  },
  {
   "cell_type": "code",
   "execution_count": 1,
   "id": "daf531c4",
   "metadata": {},
   "outputs": [
    {
     "data": {
      "text/plain": [
       "6"
      ]
     },
     "execution_count": 1,
     "metadata": {},
     "output_type": "execute_result"
    }
   ],
   "source": [
    "# Define the nested tuple\n",
    "nested_tuple = ((1, 2, 3), (4, 5, 6), (7, 8, 9))\n",
    "\n",
    "last_element = nested_tuple[1][2]\n",
    "last_element"
   ]
  },
  {
   "cell_type": "code",
   "execution_count": 8,
   "id": "10edbdf3",
   "metadata": {},
   "outputs": [
    {
     "name": "stdout",
     "output_type": "stream",
     "text": [
      "('apple', 'banana', 'cherry')\n"
     ]
    }
   ],
   "source": [
    "# Define the Tupple\n",
    "fruits = (\"apple\", \"banana\", \"cherry\")\n",
    "print(fruits) # Output: (\"apple\", \"banana\", \"cherry\")"
   ]
  },
  {
   "cell_type": "code",
   "execution_count": 10,
   "id": "1f253f3d",
   "metadata": {},
   "outputs": [
    {
     "name": "stdout",
     "output_type": "stream",
     "text": [
      "(1, 2, 3, 4, 5, 6)\n"
     ]
    }
   ],
   "source": [
    "# Tuple Concatenation\n",
    "tuple1 = (1,2,3)\n",
    "tuple2 = (4,5,6)\n",
    "result = tuple1+tuple2\n",
    "print(result) #output: (1,2,3,4,5,6)"
   ]
  },
  {
   "cell_type": "code",
   "execution_count": 11,
   "id": "a3262a89",
   "metadata": {},
   "outputs": [
    {
     "name": "stdout",
     "output_type": "stream",
     "text": [
      "(20, 30, 40)\n"
     ]
    }
   ],
   "source": [
    "#Tuple Slicing\n",
    "number = (10,20,30,40,50,60)\n",
    "slice_result = number[1:4] # Extracts elements from index 1 to 3\n",
    "print(slice_result) # output (20,30,40)"
   ]
  },
  {
   "cell_type": "code",
   "execution_count": 12,
   "id": "4fcb282e",
   "metadata": {},
   "outputs": [
    {
     "name": "stdout",
     "output_type": "stream",
     "text": [
      "('X', 'Y', 'Z')\n"
     ]
    }
   ],
   "source": [
    "#nested tuple\n",
    "nested = ((\"Apple\",\"Banana\"),(10,20,30),(\"X\",\"Y\",\"Z\"))\n",
    "print(nested[2]) #output: ('X', 'Y', 'Z')"
   ]
  },
  {
   "cell_type": "code",
   "execution_count": 13,
   "id": "7a583882",
   "metadata": {},
   "outputs": [
    {
     "name": "stdout",
     "output_type": "stream",
     "text": [
      "(10, 20)\n"
     ]
    }
   ],
   "source": [
    "#nested tuple\n",
    "nested = ((\"Apple\",\"Banana\"),(10,20,30),(\"X\",\"Y\",\"Z\"))\n",
    "result = nested[1][0:2]\n",
    "print(result) #output: (10,20)"
   ]
  },
  {
   "cell_type": "markdown",
   "id": "77b41be9",
   "metadata": {},
   "source": [
    "# list"
   ]
  },
  {
   "cell_type": "code",
   "execution_count": 3,
   "id": "fd0e1a74",
   "metadata": {},
   "outputs": [
    {
     "data": {
      "text/plain": [
       "3"
      ]
     },
     "execution_count": 3,
     "metadata": {},
     "output_type": "execute_result"
    }
   ],
   "source": [
    "# Define the nested list\n",
    "nested_list = [[\"a\", \"b\", \"c\"], [1, 2, 3], [\"x\", \"y\", \"z\"]]\n",
    "\n",
    "last_list_element = nested_list[1][2]\n",
    "last_list_element"
   ]
  },
  {
   "cell_type": "code",
   "execution_count": 4,
   "id": "9cbe8847",
   "metadata": {},
   "outputs": [
    {
     "data": {
      "text/plain": [
       "[30, 40, 50]"
      ]
     },
     "execution_count": 4,
     "metadata": {},
     "output_type": "execute_result"
    }
   ],
   "source": [
    "# Define the list\n",
    "numbers = [10, 20, 30, 40, 50]\n",
    "\n",
    "numbers[-3:]"
   ]
  },
  {
   "cell_type": "code",
   "execution_count": 5,
   "id": "a0c6b129",
   "metadata": {},
   "outputs": [
    {
     "data": {
      "text/plain": [
       "[20, 40]"
      ]
     },
     "execution_count": 5,
     "metadata": {},
     "output_type": "execute_result"
    }
   ],
   "source": [
    "# Define the list\n",
    "numbers = [10, 20, 30, 40, 50, 60]\n",
    "\n",
    "numbers[1:5:2]"
   ]
  },
  {
   "cell_type": "code",
   "execution_count": 6,
   "id": "ecb5a65f",
   "metadata": {},
   "outputs": [
    {
     "data": {
      "text/plain": [
       "['apple', 'banana', 'cherry', 'orange']"
      ]
     },
     "execution_count": 6,
     "metadata": {},
     "output_type": "execute_result"
    }
   ],
   "source": [
    "# Define the list\n",
    "fruits = [\"apple\", \"banana\", \"cherry\"]\n",
    "\n",
    "fruits.append(\"orange\")\n",
    "fruits"
   ]
  },
  {
   "cell_type": "code",
   "execution_count": 7,
   "id": "26a13d7b",
   "metadata": {},
   "outputs": [
    {
     "data": {
      "text/plain": [
       "['apple', 'cherry', 'orange']"
      ]
     },
     "execution_count": 7,
     "metadata": {},
     "output_type": "execute_result"
    }
   ],
   "source": [
    "# Define the list\n",
    "fruits = [\"apple\", \"banana\", \"cherry\", \"orange\"]\n",
    "\n",
    "fruits.remove(\"banana\")\n",
    "fruits"
   ]
  },
  {
   "cell_type": "code",
   "execution_count": 14,
   "id": "c601041a",
   "metadata": {},
   "outputs": [
    {
     "name": "stdout",
     "output_type": "stream",
     "text": [
      "[1, 2, 3, 4, 5]\n"
     ]
    }
   ],
   "source": [
    "numbers = [1,2,3,4,5]\n",
    "print(numbers) #output: [1,2,3,4,5]"
   ]
  },
  {
   "cell_type": "code",
   "execution_count": 15,
   "id": "b813e471",
   "metadata": {},
   "outputs": [
    {
     "name": "stdout",
     "output_type": "stream",
     "text": [
      "['Green', 'Blue']\n"
     ]
    }
   ],
   "source": [
    "# List Forward Slicing\n",
    "Colors = [\"Red\",\"Green\",\"Blue\",\"Yellow\"]\n",
    "result = Colors[1:3]\n",
    "print(result) #Output: [\"Green\",\"Blue\"]"
   ]
  },
  {
   "cell_type": "code",
   "execution_count": 16,
   "id": "561e6201",
   "metadata": {},
   "outputs": [
    {
     "name": "stdout",
     "output_type": "stream",
     "text": [
      "[10, 30, 50]\n"
     ]
    }
   ],
   "source": [
    "# List Backward Slicing\n",
    "Numbers = [10,20,30,40,50,60]\n",
    "range_slice = Numbers[0:6:2]\n",
    "print(range_slice) # Output: [10,30,50]"
   ]
  },
  {
   "cell_type": "code",
   "execution_count": 17,
   "id": "765c5a39",
   "metadata": {},
   "outputs": [
    {
     "name": "stdout",
     "output_type": "stream",
     "text": [
      "('Apple', 'Banana')\n"
     ]
    }
   ],
   "source": [
    "# Nested List Slicing\n",
    "nested = ((\"Apple\",\"Banana\"),(10,20,30),(\"X\",\"Y\",\"Z\"))\n",
    "print(nested[0]) #output: ('Apple','Banana')"
   ]
  },
  {
   "cell_type": "code",
   "execution_count": 18,
   "id": "e616d43a",
   "metadata": {},
   "outputs": [
    {
     "name": "stdout",
     "output_type": "stream",
     "text": [
      "('X', 'Y')\n"
     ]
    }
   ],
   "source": [
    "nested = ((\"Apple\",\"Banana\"),(10,20,30),(\"X\",\"Y\",\"Z\"))\n",
    "result = nested[2][0:2]\n",
    "print(result) #output: ('X','Y')"
   ]
  },
  {
   "cell_type": "code",
   "execution_count": 20,
   "id": "ebc02f3c",
   "metadata": {},
   "outputs": [
    {
     "name": "stdout",
     "output_type": "stream",
     "text": [
      "[10, 20, 30, 40]\n"
     ]
    }
   ],
   "source": [
    "#List Item Add/Remove\n",
    "numbers = [10,20,30]\n",
    "numbers.append(40) # Add 40 to the end\n",
    "print(numbers)#output: [10, 20, 30, 40]"
   ]
  },
  {
   "cell_type": "code",
   "execution_count": 21,
   "id": "b10ea99b",
   "metadata": {},
   "outputs": [
    {
     "name": "stdout",
     "output_type": "stream",
     "text": [
      "[10, 30, 40]\n"
     ]
    }
   ],
   "source": [
    "numbers.remove(20) #Remove 20\n",
    "print(numbers) #output: [10,30,40]"
   ]
  },
  {
   "cell_type": "markdown",
   "id": "e76fbb76",
   "metadata": {},
   "source": [
    "# Dictioneries"
   ]
  },
  {
   "cell_type": "code",
   "execution_count": 22,
   "id": "27a68a43",
   "metadata": {},
   "outputs": [
    {
     "name": "stdout",
     "output_type": "stream",
     "text": [
      "Alice\n",
      "A\n"
     ]
    }
   ],
   "source": [
    "# Dictionary\n",
    "student = {\"name\": \"Alice\", \"age\": 20, \"grade\": \"A\", \"city\": \"New York\"}\n",
    "\n",
    "print(student[\"name\"])\n",
    "print(student[\"grade\"])"
   ]
  },
  {
   "cell_type": "code",
   "execution_count": 23,
   "id": "23cf8846",
   "metadata": {},
   "outputs": [
    {
     "data": {
      "text/plain": [
       "{'name': 'Alice',\n",
       " 'age': 20,\n",
       " 'grade': 'A',\n",
       " 'city': 'New York',\n",
       " 'email': 'alice@example.com'}"
      ]
     },
     "execution_count": 23,
     "metadata": {},
     "output_type": "execute_result"
    }
   ],
   "source": [
    "# Value Add\n",
    "student[\"email\"] = \"alice@example.com\"\n",
    "student"
   ]
  },
  {
   "cell_type": "code",
   "execution_count": 24,
   "id": "c677dc4e",
   "metadata": {},
   "outputs": [
    {
     "data": {
      "text/plain": [
       "{'name': 'Alice', 'age': 20, 'grade': 'A', 'email': 'alice@example.com'}"
      ]
     },
     "execution_count": 24,
     "metadata": {},
     "output_type": "execute_result"
    }
   ],
   "source": [
    "# Value Remove\n",
    "del student[\"city\"]\n",
    "\n",
    "student"
   ]
  },
  {
   "cell_type": "code",
   "execution_count": 25,
   "id": "803fa64c",
   "metadata": {},
   "outputs": [
    {
     "name": "stdout",
     "output_type": "stream",
     "text": [
      "dict_keys(['name', 'age', 'grade', 'email'])\n",
      "dict_values(['Alice', 20, 'A', 'alice@example.com'])\n",
      "dict_items([('name', 'Alice'), ('age', 20), ('grade', 'A'), ('email', 'alice@example.com')])\n"
     ]
    }
   ],
   "source": [
    "# Dictionaries Extractions\n",
    "print(student.keys())\n",
    "print(student.values())\n",
    "print(student.items())"
   ]
  },
  {
   "cell_type": "markdown",
   "id": "1e54715b",
   "metadata": {},
   "source": [
    "#  # If Condition"
   ]
  },
  {
   "cell_type": "code",
   "execution_count": 4,
   "id": "0aeee50d",
   "metadata": {},
   "outputs": [
    {
     "name": "stdout",
     "output_type": "stream",
     "text": [
      "X is greater Than 5\n"
     ]
    }
   ],
   "source": [
    "X = 10\n",
    "if X > 5:\n",
    "    print(\"X is greater Than 5\")\n",
    "# Output: \"X is greater Than 5\""
   ]
  },
  {
   "cell_type": "code",
   "execution_count": 1,
   "id": "d5987903",
   "metadata": {},
   "outputs": [
    {
     "name": "stdout",
     "output_type": "stream",
     "text": [
      "Eligible to vote\n"
     ]
    }
   ],
   "source": [
    "#Branching \n",
    "age = 18\n",
    "if age >= 18:\n",
    "    print(\"Eligible to vote\")\n",
    "else:\n",
    "    print(\"Not Eligible to vote\")"
   ]
  },
  {
   "cell_type": "code",
   "execution_count": 4,
   "id": "1449dcb0",
   "metadata": {},
   "outputs": [
    {
     "name": "stdout",
     "output_type": "stream",
     "text": [
      "The Number is odd\n"
     ]
    }
   ],
   "source": [
    "# If Statement\n",
    "# if Condition:\n",
    "# Code to execute If condition is true\n",
    "\n",
    "# Example\n",
    "number = 7\n",
    "if number % 2 == 1:\n",
    "    print(\"The Number is odd\")\n",
    "# Output: The number is odd"
   ]
  },
  {
   "cell_type": "code",
   "execution_count": 6,
   "id": "2377bb1c",
   "metadata": {},
   "outputs": [],
   "source": [
    "# if else statement\n",
    "#if Conditio:\n",
    "    #Code to execute if condition if true \n",
    "#else:\n",
    "    # Code to execute if conditio if false"
   ]
  },
  {
   "cell_type": "code",
   "execution_count": 7,
   "id": "cff21526",
   "metadata": {},
   "outputs": [
    {
     "name": "stdout",
     "output_type": "stream",
     "text": [
      "Pass\n"
     ]
    }
   ],
   "source": [
    "marks = 70\n",
    "if marks >= 50:\n",
    "    print(\"Pass\")\n",
    "else:\n",
    "    print(\"fail\")\n",
    "#output: Pass"
   ]
  },
  {
   "cell_type": "code",
   "execution_count": 8,
   "id": "58219db5",
   "metadata": {},
   "outputs": [
    {
     "name": "stdout",
     "output_type": "stream",
     "text": [
      "Grade B\n"
     ]
    }
   ],
   "source": [
    "#if-elif-else statement \n",
    "score = 85\n",
    "if score >= 90:\n",
    "    print(\"Grade A\")\n",
    "elif score >= 75:\n",
    "    print(\"Grade B\")\n",
    "else:\n",
    "    print(\"Grade C\")\n",
    "#output: Grade B"
   ]
  },
  {
   "cell_type": "code",
   "execution_count": 10,
   "id": "f0ed7897",
   "metadata": {},
   "outputs": [
    {
     "name": "stdout",
     "output_type": "stream",
     "text": [
      "Extrem Weather\n"
     ]
    }
   ],
   "source": [
    "temprature = 35\n",
    "if temprature < 0 or temprature > 30:\n",
    "    print(\"Extrem Weather\")\n",
    "else:\n",
    "    print(\"Normal Weathe\")\n",
    "#output: Extrem Weather"
   ]
  },
  {
   "cell_type": "code",
   "execution_count": 11,
   "id": "99f168aa",
   "metadata": {},
   "outputs": [
    {
     "name": "stdout",
     "output_type": "stream",
     "text": [
      "Eligible for loan\n"
     ]
    }
   ],
   "source": [
    "# if-else statement + and \n",
    "age = 25\n",
    "income = 50000\n",
    "if age > 18 and income > 30000:\n",
    "    print(\"Eligible for loan\")\n",
    "else:\n",
    "    print(\"Not Eligible for loan\")\n",
    "#output: Eligible for loan"
   ]
  },
  {
   "cell_type": "code",
   "execution_count": null,
   "id": "f521e1f0",
   "metadata": {},
   "outputs": [],
   "source": []
  },
  {
   "cell_type": "code",
   "execution_count": 1,
   "id": "d87d8404",
   "metadata": {},
   "outputs": [
    {
     "name": "stdout",
     "output_type": "stream",
     "text": [
      "Moderate Runner\n"
     ]
    }
   ],
   "source": [
    "animal_speed = 45\n",
    "\n",
    "if animal_speed >= 60:\n",
    "    print(\"Fast Runner\")\n",
    "elif 30 <= animal_speed <= 59:\n",
    "    print(\"Moderate Runner\")\n",
    "else:\n",
    "    print(\"Slow Mover\")"
   ]
  },
  {
   "cell_type": "code",
   "execution_count": 2,
   "id": "54175a83",
   "metadata": {},
   "outputs": [
    {
     "name": "stdout",
     "output_type": "stream",
     "text": [
      "Eligible for the discounted ticket\n"
     ]
    }
   ],
   "source": [
    "child_age = 10\n",
    "child_height = 135\n",
    "\n",
    "if 3 <= child_age <= 12 and child_height < 140:\n",
    "    print(\"Eligible for the discounted ticket\")\n",
    "else:\n",
    "    print(\"Not Eligible\")"
   ]
  },
  {
   "cell_type": "code",
   "execution_count": 3,
   "id": "d4550bcb",
   "metadata": {},
   "outputs": [
    {
     "name": "stdout",
     "output_type": "stream",
     "text": [
      "Eligible for the ecofriendy car race.\n"
     ]
    }
   ],
   "source": [
    "fuel_type = \"Hybrid\"\n",
    "fuel_efficiency = 28\n",
    "\n",
    "if fuel_type == \"Hybrid\" or fuel_type == \"Electric\":\n",
    "    if fuel_type == \"Hybrid\" and fuel_efficiency >= 25:\n",
    "        print(\"Eligible for the ecofriendy car race.\")\n",
    "    elif fuel_type == \"Electric\":\n",
    "        print(\"Eligible for the ecofriendy car race.\")\n",
    "    else:\n",
    "        print(\"Not eligible for the ecofriendly race.\")\n",
    "\n",
    "else:\n",
    "    print(\"Not eligible for the ecofriendly race due to unsupported fuel type.\")"
   ]
  },
  {
   "cell_type": "markdown",
   "id": "4278ee6b",
   "metadata": {},
   "source": [
    "# Loop"
   ]
  },
  {
   "cell_type": "code",
   "execution_count": 12,
   "id": "40b1f9d4",
   "metadata": {},
   "outputs": [
    {
     "name": "stdout",
     "output_type": "stream",
     "text": [
      "apple\n",
      "banana\n",
      "cherry\n"
     ]
    }
   ],
   "source": [
    "# For item in sequence\n",
    "# Example\n",
    "fruits = [\"apple\",\"banana\",\"cherry\"]\n",
    "for fruit in fruits:\n",
    "    print(fruit) "
   ]
  },
  {
   "cell_type": "code",
   "execution_count": 13,
   "id": "40aa7158",
   "metadata": {},
   "outputs": [
    {
     "name": "stdout",
     "output_type": "stream",
     "text": [
      "1\n",
      "2\n",
      "3\n",
      "4\n",
      "5\n",
      "6\n",
      "7\n"
     ]
    }
   ],
   "source": [
    "# Range() in for-loop\n",
    "for i in range(1,8):\n",
    "    print(i)"
   ]
  },
  {
   "cell_type": "code",
   "execution_count": 17,
   "id": "dcfc3c65",
   "metadata": {},
   "outputs": [
    {
     "name": "stdout",
     "output_type": "stream",
     "text": [
      "Acess:0,Name:Alice\n",
      "Acess:1,Name:Bob\n",
      "Acess:2,Name:Charlie\n"
     ]
    }
   ],
   "source": [
    "# Enumerate() in For-loop\n",
    "# List of names\n",
    "names = [\"Alice\",\"Bob\",\"Charlie\"]\n",
    "# using enumerate to get index and value\n",
    "for Acess, name in enumerate(names):\n",
    "    print(f\"Acess:{Acess},Name:{name}\")"
   ]
  },
  {
   "cell_type": "code",
   "execution_count": 16,
   "id": "90c07cee",
   "metadata": {},
   "outputs": [
    {
     "name": "stdout",
     "output_type": "stream",
     "text": [
      "[1, 2, 3, 4, 5]\n"
     ]
    }
   ],
   "source": [
    "# While-Loop Example\n",
    "numbers = []\n",
    "i = 1\n",
    "while i <= 5:\n",
    "    numbers.append(i)\n",
    "    i += 1\n",
    "print(numbers)\n",
    "    "
   ]
  },
  {
   "cell_type": "code",
   "execution_count": 18,
   "id": "cbe555dc",
   "metadata": {},
   "outputs": [
    {
     "name": "stdout",
     "output_type": "stream",
     "text": [
      "Welcome to the team, Alice\n",
      "Welcome to the team, Bob\n",
      "Welcome to the team, Charlie\n",
      "Welcome to the team, Diana\n"
     ]
    }
   ],
   "source": [
    "# List of names\n",
    "names = [\"Alice\", \"Bob\", \"Charlie\", \"Diana\"]\n",
    "\n",
    "for name in names:\n",
    "    print(f\"Welcome to the team, {name}\")"
   ]
  },
  {
   "cell_type": "code",
   "execution_count": 19,
   "id": "4013213b",
   "metadata": {},
   "outputs": [
    {
     "name": "stdout",
     "output_type": "stream",
     "text": [
      "Task 1: Wash the dishes\n",
      "Task 2: Clean the room\n",
      "Task 3: Do the laundry\n",
      "Task 4: Prepare dinner\n"
     ]
    }
   ],
   "source": [
    "# List of tasks\n",
    "tasks = [\"Wash the dishes\", \"Clean the room\", \"Do the laundry\", \"Prepare dinner\"]\n",
    "\n",
    "for index, task in enumerate(tasks, start = 1):\n",
    "    print(f\"Task {index}: {task}\")"
   ]
  },
  {
   "cell_type": "code",
   "execution_count": 20,
   "id": "c67cd11d",
   "metadata": {},
   "outputs": [
    {
     "name": "stdout",
     "output_type": "stream",
     "text": [
      "[2, 4, 6, 8, 10]\n"
     ]
    }
   ],
   "source": [
    "even_numbers = []\n",
    "num = 2\n",
    "\n",
    "while num <= 10:\n",
    "    even_numbers.append(num)\n",
    "    num += 2\n",
    "\n",
    "print(even_numbers)"
   ]
  },
  {
   "cell_type": "code",
   "execution_count": 21,
   "id": "3b18ae51",
   "metadata": {},
   "outputs": [
    {
     "name": "stdout",
     "output_type": "stream",
     "text": [
      "10: Positive number\n",
      "-5: Negative number\n",
      "0: zero\n",
      "23: Positive number\n",
      "-7: Negative number\n",
      "0: zero\n",
      "15: Positive number\n",
      "-3: Negative number\n"
     ]
    }
   ],
   "source": [
    "# List of numbers\n",
    "numbers = [10, -5, 0, 23, -7, 0, 15, -3]\n",
    "\n",
    "for num in numbers:\n",
    "    if num > 0:\n",
    "        print(f\"{num}: Positive number\")\n",
    "    elif num < 0:\n",
    "        print(f\"{num}: Negative number\")\n",
    "    else:\n",
    "        print(f\"{num}: zero\")"
   ]
  },
  {
   "cell_type": "code",
   "execution_count": null,
   "id": "cbb0e8ff",
   "metadata": {},
   "outputs": [],
   "source": []
  }
 ],
 "metadata": {
  "kernelspec": {
   "display_name": "Python 3 (ipykernel)",
   "language": "python",
   "name": "python3"
  },
  "language_info": {
   "codemirror_mode": {
    "name": "ipython",
    "version": 3
   },
   "file_extension": ".py",
   "mimetype": "text/x-python",
   "name": "python",
   "nbconvert_exporter": "python",
   "pygments_lexer": "ipython3",
   "version": "3.11.5"
  }
 },
 "nbformat": 4,
 "nbformat_minor": 5
}
